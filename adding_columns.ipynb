{
 "cells": [
  {
   "cell_type": "code",
   "execution_count": 1,
   "metadata": {},
   "outputs": [],
   "source": [
    "import pandas as pd"
   ]
  },
  {
   "cell_type": "code",
   "execution_count": 2,
   "metadata": {},
   "outputs": [],
   "source": [
    "df = pd.read_csv(\"Grocery_product.csv\")"
   ]
  },
  {
   "cell_type": "code",
   "execution_count": 4,
   "metadata": {},
   "outputs": [],
   "source": [
    "date_data = [12, 22, 24, 4, 5, 7, 15, 18, 21, 12]\n",
    "df[\"date\"] = date_data\n"
   ]
  },
  {
   "cell_type": "code",
   "execution_count": 5,
   "metadata": {},
   "outputs": [],
   "source": [
    "df.insert(2, \"Number_of_Product\", [12, 2, 9, 7, 11, 16, 14, 17, 7, 18], True)"
   ]
  },
  {
   "cell_type": "code",
   "execution_count": 11,
   "metadata": {},
   "outputs": [],
   "source": [
    "df = df.assign(address=[\"Delhi\", \"Bangalore\", \"Chennai\", \"Patna\", \"Mumbai\", \"Pune\", \"Panji\", \"Hydrebad\", \"Nashik\", \"Naggpur\"])\n",
    "\n"
   ]
  },
  {
   "cell_type": "code",
   "execution_count": 6,
   "metadata": {},
   "outputs": [
    {
     "name": "stdout",
     "output_type": "stream",
     "text": [
      "   Sr. no     Name  Number_of_Product  Age Grocery product  Price(Rs)  month   \n",
      "0       1    Misha                 12   20           Matki         40    Jan  \\\n",
      "1       2  Jashmin                  2   23         Tur Dal         99    Feb   \n",
      "2       3     Juhi                  9   21       Chana dal         41    Feb   \n",
      "3       4   Pepper                  7   24     Rajma white         50    Mar   \n",
      "4       5    Anmol                 11   32            Udid         43    Mar   \n",
      "5       6    Saina                 16   26    Vatana black         39    Mar   \n",
      "6       7    Sejal                 14   27        Soyabean         39  April   \n",
      "7       8   Anjali                 17   31           Matki         80    May   \n",
      "8       9     Jack                  7   30       Moong dal         90    MAy   \n",
      "9      10      Sid                 18   25         Tur dal         99   June   \n",
      "\n",
      "   date  \n",
      "0    12  \n",
      "1    22  \n",
      "2    24  \n",
      "3     4  \n",
      "4     5  \n",
      "5     7  \n",
      "6    15  \n",
      "7    18  \n",
      "8    21  \n",
      "9    12  \n"
     ]
    }
   ],
   "source": [
    "print(df)"
   ]
  },
  {
   "cell_type": "code",
   "execution_count": null,
   "metadata": {},
   "outputs": [],
   "source": []
  }
 ],
 "metadata": {
  "kernelspec": {
   "display_name": "Python 3",
   "language": "python",
   "name": "python3"
  },
  "language_info": {
   "codemirror_mode": {
    "name": "ipython",
    "version": 3
   },
   "file_extension": ".py",
   "mimetype": "text/x-python",
   "name": "python",
   "nbconvert_exporter": "python",
   "pygments_lexer": "ipython3",
   "version": "3.10.1"
  },
  "orig_nbformat": 4
 },
 "nbformat": 4,
 "nbformat_minor": 2
}
