{
 "cells": [
  {
   "cell_type": "code",
   "execution_count": 1,
   "metadata": {},
   "outputs": [],
   "source": [
    "import pandas as pd\n"
   ]
  },
  {
   "cell_type": "code",
   "execution_count": 2,
   "metadata": {},
   "outputs": [],
   "source": [
    "name_age_data = pd.read_csv(\"Sample_dataset1.csv\")\n",
    "\n",
    "name_age_dataframe = pd.DataFrame(name_age_data)"
   ]
  },
  {
   "cell_type": "code",
   "execution_count": 3,
   "metadata": {},
   "outputs": [
    {
     "name": "stdout",
     "output_type": "stream",
     "text": [
      "   Sr. no. First Name  Last Name  Age\n",
      "0        1       Joe    Williams   25\n",
      "1        2     Oliver      Trump   24\n",
      "2        3      Sagar      Dubey   25\n",
      "3        4       Liaa    Edwards   26\n",
      "4        5      Mansi  Deshpande   22\n",
      "5        6      Rocky      Lewis   21\n",
      "6        7      Harry     Harris   23\n",
      "7        8       Tina     Bailey   28\n",
      "8        9       Ansh    Shriwas   29\n",
      "9       10    Michael      Davis   29\n"
     ]
    }
   ],
   "source": [
    "print(name_age_data)"
   ]
  },
  {
   "cell_type": "code",
   "execution_count": 4,
   "metadata": {},
   "outputs": [
    {
     "name": "stdout",
     "output_type": "stream",
     "text": [
      "   Sr. no. First Name  Last Name  Age\n",
      "0        1       Joe    Williams   25\n",
      "1        2     Oliver      Trump   24\n",
      "2        3      Sagar      Dubey   25\n",
      "3        4       Liaa    Edwards   26\n",
      "4        5      Mansi  Deshpande   22\n",
      "5        6      Rocky      Lewis   21\n",
      "6        7      Harry     Harris   23\n",
      "7        8       Tina     Bailey   28\n",
      "8        9       Ansh    Shriwas   29\n",
      "9       10    Michael      Davis   29\n"
     ]
    }
   ],
   "source": [
    "print(name_age_dataframe)"
   ]
  },
  {
   "cell_type": "code",
   "execution_count": 5,
   "metadata": {},
   "outputs": [
    {
     "name": "stdout",
     "output_type": "stream",
     "text": [
      "<class 'pandas.core.frame.DataFrame'>\n"
     ]
    }
   ],
   "source": [
    "print(type(name_age_data))"
   ]
  },
  {
   "cell_type": "code",
   "execution_count": 7,
   "metadata": {},
   "outputs": [],
   "source": [
    "name_age_dataframe.loc[len(name_age_dataframe.index)] = [\"11\", \"Johnson\", \"Rudyards\", \"25\"]"
   ]
  },
  {
   "cell_type": "code",
   "execution_count": 14,
   "metadata": {},
   "outputs": [
    {
     "ename": "ValueError",
     "evalue": "If using all scalar values, you must pass an index",
     "output_type": "error",
     "traceback": [
      "\u001b[1;31m---------------------------------------------------------------------------\u001b[0m",
      "\u001b[1;31mValueError\u001b[0m                                Traceback (most recent call last)",
      "Cell \u001b[1;32mIn[14], line 2\u001b[0m\n\u001b[0;32m      1\u001b[0m name_age_dataframe_added_data \u001b[39m=\u001b[39m {\u001b[39m\"\u001b[39m\u001b[39mSr. no.\u001b[39m\u001b[39m\"\u001b[39m: \u001b[39m12\u001b[39m, \u001b[39m\"\u001b[39m\u001b[39mFirst Name\u001b[39m\u001b[39m\"\u001b[39m: \u001b[39m\"\u001b[39m\u001b[39mWilliam\u001b[39m\u001b[39m\"\u001b[39m, \u001b[39m\"\u001b[39m\u001b[39mLast Name\u001b[39m\u001b[39m\"\u001b[39m: \u001b[39m\"\u001b[39m\u001b[39mHardey\u001b[39m\u001b[39m\"\u001b[39m, \u001b[39m\"\u001b[39m\u001b[39mAge\u001b[39m\u001b[39m\"\u001b[39m: \u001b[39m33\u001b[39m}\n\u001b[1;32m----> 2\u001b[0m a \u001b[39m=\u001b[39m pd\u001b[39m.\u001b[39;49mDataFrame(name_age_dataframe_added_data)\n\u001b[0;32m      4\u001b[0m name_age_dataframe \u001b[39m=\u001b[39m name_age_dataframe\u001b[39m.\u001b[39mappend(a)\n",
      "File \u001b[1;32mc:\\Users\\deepa\\AppData\\Local\\Programs\\Python\\Python310\\lib\\site-packages\\pandas\\core\\frame.py:709\u001b[0m, in \u001b[0;36mDataFrame.__init__\u001b[1;34m(self, data, index, columns, dtype, copy)\u001b[0m\n\u001b[0;32m    703\u001b[0m     mgr \u001b[39m=\u001b[39m \u001b[39mself\u001b[39m\u001b[39m.\u001b[39m_init_mgr(\n\u001b[0;32m    704\u001b[0m         data, axes\u001b[39m=\u001b[39m{\u001b[39m\"\u001b[39m\u001b[39mindex\u001b[39m\u001b[39m\"\u001b[39m: index, \u001b[39m\"\u001b[39m\u001b[39mcolumns\u001b[39m\u001b[39m\"\u001b[39m: columns}, dtype\u001b[39m=\u001b[39mdtype, copy\u001b[39m=\u001b[39mcopy\n\u001b[0;32m    705\u001b[0m     )\n\u001b[0;32m    707\u001b[0m \u001b[39melif\u001b[39;00m \u001b[39misinstance\u001b[39m(data, \u001b[39mdict\u001b[39m):\n\u001b[0;32m    708\u001b[0m     \u001b[39m# GH#38939 de facto copy defaults to False only in non-dict cases\u001b[39;00m\n\u001b[1;32m--> 709\u001b[0m     mgr \u001b[39m=\u001b[39m dict_to_mgr(data, index, columns, dtype\u001b[39m=\u001b[39;49mdtype, copy\u001b[39m=\u001b[39;49mcopy, typ\u001b[39m=\u001b[39;49mmanager)\n\u001b[0;32m    710\u001b[0m \u001b[39melif\u001b[39;00m \u001b[39misinstance\u001b[39m(data, ma\u001b[39m.\u001b[39mMaskedArray):\n\u001b[0;32m    711\u001b[0m     \u001b[39mfrom\u001b[39;00m \u001b[39mnumpy\u001b[39;00m\u001b[39m.\u001b[39;00m\u001b[39mma\u001b[39;00m \u001b[39mimport\u001b[39;00m mrecords\n",
      "File \u001b[1;32mc:\\Users\\deepa\\AppData\\Local\\Programs\\Python\\Python310\\lib\\site-packages\\pandas\\core\\internals\\construction.py:481\u001b[0m, in \u001b[0;36mdict_to_mgr\u001b[1;34m(data, index, columns, dtype, typ, copy)\u001b[0m\n\u001b[0;32m    477\u001b[0m     \u001b[39melse\u001b[39;00m:\n\u001b[0;32m    478\u001b[0m         \u001b[39m# dtype check to exclude e.g. range objects, scalars\u001b[39;00m\n\u001b[0;32m    479\u001b[0m         arrays \u001b[39m=\u001b[39m [x\u001b[39m.\u001b[39mcopy() \u001b[39mif\u001b[39;00m \u001b[39mhasattr\u001b[39m(x, \u001b[39m\"\u001b[39m\u001b[39mdtype\u001b[39m\u001b[39m\"\u001b[39m) \u001b[39melse\u001b[39;00m x \u001b[39mfor\u001b[39;00m x \u001b[39min\u001b[39;00m arrays]\n\u001b[1;32m--> 481\u001b[0m \u001b[39mreturn\u001b[39;00m arrays_to_mgr(arrays, columns, index, dtype\u001b[39m=\u001b[39;49mdtype, typ\u001b[39m=\u001b[39;49mtyp, consolidate\u001b[39m=\u001b[39;49mcopy)\n",
      "File \u001b[1;32mc:\\Users\\deepa\\AppData\\Local\\Programs\\Python\\Python310\\lib\\site-packages\\pandas\\core\\internals\\construction.py:115\u001b[0m, in \u001b[0;36marrays_to_mgr\u001b[1;34m(arrays, columns, index, dtype, verify_integrity, typ, consolidate)\u001b[0m\n\u001b[0;32m    112\u001b[0m \u001b[39mif\u001b[39;00m verify_integrity:\n\u001b[0;32m    113\u001b[0m     \u001b[39m# figure out the index, if necessary\u001b[39;00m\n\u001b[0;32m    114\u001b[0m     \u001b[39mif\u001b[39;00m index \u001b[39mis\u001b[39;00m \u001b[39mNone\u001b[39;00m:\n\u001b[1;32m--> 115\u001b[0m         index \u001b[39m=\u001b[39m _extract_index(arrays)\n\u001b[0;32m    116\u001b[0m     \u001b[39melse\u001b[39;00m:\n\u001b[0;32m    117\u001b[0m         index \u001b[39m=\u001b[39m ensure_index(index)\n",
      "File \u001b[1;32mc:\\Users\\deepa\\AppData\\Local\\Programs\\Python\\Python310\\lib\\site-packages\\pandas\\core\\internals\\construction.py:645\u001b[0m, in \u001b[0;36m_extract_index\u001b[1;34m(data)\u001b[0m\n\u001b[0;32m    642\u001b[0m         \u001b[39mraise\u001b[39;00m \u001b[39mValueError\u001b[39;00m(\u001b[39m\"\u001b[39m\u001b[39mPer-column arrays must each be 1-dimensional\u001b[39m\u001b[39m\"\u001b[39m)\n\u001b[0;32m    644\u001b[0m \u001b[39mif\u001b[39;00m \u001b[39mnot\u001b[39;00m indexes \u001b[39mand\u001b[39;00m \u001b[39mnot\u001b[39;00m raw_lengths:\n\u001b[1;32m--> 645\u001b[0m     \u001b[39mraise\u001b[39;00m \u001b[39mValueError\u001b[39;00m(\u001b[39m\"\u001b[39m\u001b[39mIf using all scalar values, you must pass an index\u001b[39m\u001b[39m\"\u001b[39m)\n\u001b[0;32m    647\u001b[0m \u001b[39mif\u001b[39;00m have_series:\n\u001b[0;32m    648\u001b[0m     index \u001b[39m=\u001b[39m union_indexes(indexes)\n",
      "\u001b[1;31mValueError\u001b[0m: If using all scalar values, you must pass an index"
     ]
    }
   ],
   "source": [
    "name_age_dataframe_added_data = {\"Sr. no.\": 12, \"First Name\": \"William\", \"Last Name\": \"Hardey\", \"Age\": 33}\n",
    "a = pd.DataFrame(name_age_dataframe_added_data)\n",
    "\n",
    "name_age_dataframe = name_age_dataframe.append(a)"
   ]
  },
  {
   "cell_type": "code",
   "execution_count": 19,
   "metadata": {},
   "outputs": [
    {
     "name": "stdout",
     "output_type": "stream",
     "text": [
      "   Sr. no. First Name  Last Name Age\n",
      "0        1       Joe    Williams  25\n",
      "1        2     Oliver      Trump  24\n",
      "2        3      Sagar      Dubey  25\n",
      "3        4       Liaa    Edwards  26\n",
      "4        5      Mansi  Deshpande  22\n",
      "5        6      Rocky      Lewis  21\n",
      "6        7      Harry     Harris  23\n",
      "7        8       Tina     Bailey  28\n",
      "8        9       Ansh    Shriwas  29\n",
      "9       10    Michael      Davis  29\n",
      "10      11    Johnson   Rudyards  25\n"
     ]
    }
   ],
   "source": [
    "print(name_age_dataframe)"
   ]
  },
  {
   "cell_type": "code",
   "execution_count": 17,
   "metadata": {},
   "outputs": [],
   "source": [
    "dict = {\"Sr. no.\": [\"13\"], \"First Name\": [\"Misha\"], \"Last Name\": [\"Rajput\"], \"Age\": [25]}\n",
    "\n",
    "df2 = pd.DataFrame(dict)\n",
    "\n",
    "df3 = pd.concat([name_age_dataframe, df2], ignore_index=True)"
   ]
  },
  {
   "cell_type": "code",
   "execution_count": 20,
   "metadata": {},
   "outputs": [
    {
     "name": "stdout",
     "output_type": "stream",
     "text": [
      "   Sr. no. First Name  Last Name Age\n",
      "0        1       Joe    Williams  25\n",
      "1        2     Oliver      Trump  24\n",
      "2        3      Sagar      Dubey  25\n",
      "3        4       Liaa    Edwards  26\n",
      "4        5      Mansi  Deshpande  22\n",
      "5        6      Rocky      Lewis  21\n",
      "6        7      Harry     Harris  23\n",
      "7        8       Tina     Bailey  28\n",
      "8        9       Ansh    Shriwas  29\n",
      "9       10    Michael      Davis  29\n",
      "10      11    Johnson   Rudyards  25\n",
      "11      13      Misha     Rajput  25\n"
     ]
    }
   ],
   "source": [
    "print(df3)"
   ]
  }
 ],
 "metadata": {
  "kernelspec": {
   "display_name": "Python 3",
   "language": "python",
   "name": "python3"
  },
  "language_info": {
   "codemirror_mode": {
    "name": "ipython",
    "version": 3
   },
   "file_extension": ".py",
   "mimetype": "text/x-python",
   "name": "python",
   "nbconvert_exporter": "python",
   "pygments_lexer": "ipython3",
   "version": "3.10.1"
  },
  "orig_nbformat": 4
 },
 "nbformat": 4,
 "nbformat_minor": 2
}
